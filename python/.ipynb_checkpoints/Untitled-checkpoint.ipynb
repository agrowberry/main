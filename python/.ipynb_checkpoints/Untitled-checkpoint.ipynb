{
 "cells": [
  {
   "cell_type": "code",
   "execution_count": 2,
   "id": "76d3fa92-77d5-472c-8168-180b8b098105",
   "metadata": {},
   "outputs": [],
   "source": [
    "import plotly.graph_objects as go\n",
    "import numpy as np\n",
    "import pandas as pd\n",
    "import serial"
   ]
  },
  {
   "cell_type": "code",
   "execution_count": 23,
   "id": "cc557126-a234-45e8-be60-f3dda9729f24",
   "metadata": {},
   "outputs": [],
   "source": [
    "odo = pd.read_csv(\"Odo.csv\")\n",
    "acc = pd.read_csv(\"Accel.csv\") "
   ]
  },
  {
   "cell_type": "code",
   "execution_count": 47,
   "id": "3fc8da21",
   "metadata": {},
   "outputs": [
    {
     "data": {
      "application/vnd.plotly.v1+json": {
       "config": {
        "plotlyServerURL": "https://plot.ly"
       },
       "data": [
        {
         "marker": {
          "size": 10
         },
         "mode": "markers",
         "showlegend": false,
         "type": "scatter",
         "x": [
          288.68,
          293.72,
          56.22,
          -280.19,
          -193.44,
          26.04,
          324.41,
          258.53,
          1.37,
          -118.87,
          57.15,
          151.05,
          -3.1,
          -143.72,
          -105.04,
          287.37,
          272.91,
          -41.05,
          -231.46,
          -148.7,
          304.84,
          276.22,
          -102.46,
          -306.36,
          -190.69,
          204.68,
          172.44,
          -195.19,
          -320.55,
          -150.74
         ],
         "y": [
          -101.49,
          45.92,
          129.49,
          -98.6,
          -241.29,
          -154.35,
          -20.14,
          155.88,
          124.18,
          -292.89,
          -376.12,
          -211.91,
          238.66,
          189.46,
          -6.77,
          -128.07,
          -51.5,
          211.4,
          98.81,
          -55.57,
          -128.92,
          -64.53,
          156.71,
          8.8,
          -170.43,
          -182.04,
          -105.68,
          82.39,
          -89.57,
          -220.44
         ]
        },
        {
         "line": {
          "color": "green",
          "width": 0.5
         },
         "mode": "lines",
         "showlegend": false,
         "type": "scatter",
         "x": [
          288.68,
          293.72,
          56.22,
          -280.19,
          -193.44,
          26.04,
          324.41,
          258.53,
          1.37,
          -118.87,
          57.15,
          151.05,
          -3.1,
          -143.72,
          -105.04,
          287.37,
          272.91,
          -41.05,
          -231.46,
          -148.7,
          304.84,
          276.22,
          -102.46,
          -306.36,
          -190.69,
          204.68,
          172.44,
          -195.19,
          -320.55,
          -150.74
         ],
         "y": [
          -101.49,
          45.92,
          129.49,
          -98.6,
          -241.29,
          -154.35,
          -20.14,
          155.88,
          124.18,
          -292.89,
          -376.12,
          -211.91,
          238.66,
          189.46,
          -6.77,
          -128.07,
          -51.5,
          211.4,
          98.81,
          -55.57,
          -128.92,
          -64.53,
          156.71,
          8.8,
          -170.43,
          -182.04,
          -105.68,
          82.39,
          -89.57,
          -220.44
         ]
        }
       ],
       "layout": {
        "annotations": [
         {
          "arrowcolor": "rgb(255,51,0)",
          "arrowhead": 3,
          "arrowwidth": 1.5,
          "ax": 288.68,
          "axref": "x",
          "ay": -101.49,
          "ayref": "y",
          "showarrow": true,
          "text": "",
          "x": 320.52335194196223,
          "xref": "x",
          "y": -125.69745622944157,
          "yref": "y"
         },
         {
          "arrowcolor": "rgb(255,51,0)",
          "arrowhead": 3,
          "arrowwidth": 1.5,
          "ax": 293.72,
          "axref": "x",
          "ay": 45.92,
          "ayref": "y",
          "showarrow": true,
          "text": "",
          "x": 316.9873235785554,
          "xref": "x",
          "y": 78.45662019157496,
          "yref": "y"
         },
         {
          "arrowcolor": "rgb(255,51,0)",
          "arrowhead": 3,
          "arrowwidth": 1.5,
          "ax": 56.22,
          "axref": "x",
          "ay": 129.49,
          "ayref": "y",
          "showarrow": true,
          "text": "",
          "x": 30.78308733623991,
          "xref": "x",
          "y": 160.36010648080506,
          "yref": "y"
         },
         {
          "arrowcolor": "rgb(255,51,0)",
          "arrowhead": 3,
          "arrowwidth": 1.5,
          "ax": -280.19,
          "axref": "x",
          "ay": -98.6,
          "ayref": "y",
          "showarrow": true,
          "text": "",
          "x": -320.18858633885367,
          "xref": "x",
          "y": -98.93628989468594,
          "yref": "y"
         },
         {
          "arrowcolor": "rgb(255,51,0)",
          "arrowhead": 3,
          "arrowwidth": 1.5,
          "ax": -193.44,
          "axref": "x",
          "ay": -241.29,
          "ayref": "y",
          "showarrow": true,
          "text": "",
          "x": -192.73559562830772,
          "xref": "x",
          "y": -281.2837972000802,
          "yref": "y"
         },
         {
          "arrowcolor": "rgb(255,51,0)",
          "arrowhead": 3,
          "arrowwidth": 1.5,
          "ax": 26.04,
          "axref": "x",
          "ay": -154.35,
          "ayref": "y",
          "showarrow": true,
          "text": "",
          "x": 65.5908431174417,
          "xref": "x",
          "y": -160.32752529894395,
          "yref": "y"
         },
         {
          "arrowcolor": "rgb(255,51,0)",
          "arrowhead": 3,
          "arrowwidth": 1.5,
          "ax": 324.41,
          "axref": "x",
          "ay": -20.14,
          "ayref": "y",
          "showarrow": true,
          "text": "",
          "x": 363.16649686842584,
          "xref": "x",
          "y": -30.036158370180917,
          "yref": "y"
         },
         {
          "arrowcolor": "rgb(255,51,0)",
          "arrowhead": 3,
          "arrowwidth": 1.5,
          "ax": 258.53,
          "axref": "x",
          "ay": 155.88,
          "ayref": "y",
          "showarrow": true,
          "text": "",
          "x": 264.5390187964674,
          "xref": "x",
          "y": 195.42607051406878,
          "yref": "y"
         },
         {
          "arrowcolor": "rgb(255,51,0)",
          "arrowhead": 3,
          "arrowwidth": 1.5,
          "ax": 1.37,
          "axref": "x",
          "ay": 124.18,
          "ayref": "y",
          "showarrow": true,
          "text": "",
          "x": -35.60209514529854,
          "xref": "x",
          "y": 139.44643968209328,
          "yref": "y"
         },
         {
          "arrowcolor": "rgb(255,51,0)",
          "arrowhead": 3,
          "arrowwidth": 1.5,
          "ax": -118.87,
          "axref": "x",
          "ay": -292.89,
          "ayref": "y",
          "showarrow": true,
          "text": "",
          "x": -150.0129272648173,
          "xref": "x",
          "y": -317.9921529231717,
          "yref": "y"
         },
         {
          "arrowcolor": "rgb(255,51,0)",
          "arrowhead": 3,
          "arrowwidth": 1.5,
          "ax": 57.15,
          "axref": "x",
          "ay": -376.12,
          "ayref": "y",
          "showarrow": true,
          "text": "",
          "x": 78.99096327926593,
          "xref": "x",
          "y": -409.6307792066039,
          "yref": "y"
         },
         {
          "arrowcolor": "rgb(255,51,0)",
          "arrowhead": 3,
          "arrowwidth": 1.5,
          "ax": 151.05,
          "axref": "x",
          "ay": -211.91,
          "ayref": "y",
          "showarrow": true,
          "text": "",
          "x": 185.95978030583007,
          "xref": "x",
          "y": -192.3829101246837,
          "yref": "y"
         },
         {
          "arrowcolor": "rgb(255,51,0)",
          "arrowhead": 3,
          "arrowwidth": 1.5,
          "ax": -3.1,
          "axref": "x",
          "ay": 238.66,
          "ayref": "y",
          "showarrow": true,
          "text": "",
          "x": 7.984835002262303,
          "xref": "x",
          "y": 277.0934025682429,
          "yref": "y"
         },
         {
          "arrowcolor": "rgb(255,51,0)",
          "arrowhead": 3,
          "arrowwidth": 1.5,
          "ax": -143.72,
          "axref": "x",
          "ay": 189.46,
          "ayref": "y",
          "showarrow": true,
          "text": "",
          "x": -182.46068656913786,
          "xref": "x",
          "y": 199.4178714669261,
          "yref": "y"
         },
         {
          "arrowcolor": "rgb(255,51,0)",
          "arrowhead": 3,
          "arrowwidth": 1.5,
          "ax": -105.04,
          "axref": "x",
          "ay": -6.77,
          "ayref": "y",
          "showarrow": true,
          "text": "",
          "x": -120.33587670850721,
          "xref": "x",
          "y": -43.72992634892752,
          "yref": "y"
         },
         {
          "arrowcolor": "rgb(255,51,0)",
          "arrowhead": 3,
          "arrowwidth": 1.5,
          "ax": 287.37,
          "axref": "x",
          "ay": -128.07,
          "ayref": "y",
          "showarrow": true,
          "text": "",
          "x": 312.54648106294786,
          "xref": "x",
          "y": -159.15286990107296,
          "yref": "y"
         },
         {
          "arrowcolor": "rgb(255,51,0)",
          "arrowhead": 3,
          "arrowwidth": 1.5,
          "ax": 272.91,
          "axref": "x",
          "ay": -51.5,
          "ayref": "y",
          "showarrow": true,
          "text": "",
          "x": 297.14280626573856,
          "xref": "x",
          "y": -19.67593519854536,
          "yref": "y"
         },
         {
          "arrowcolor": "rgb(255,51,0)",
          "arrowhead": 3,
          "arrowwidth": 1.5,
          "ax": -41.05,
          "axref": "x",
          "ay": 211.4,
          "ayref": "y",
          "showarrow": true,
          "text": "",
          "x": -48.96555258436436,
          "xref": "x",
          "y": 250.60897891152183,
          "yref": "y"
         },
         {
          "arrowcolor": "rgb(255,51,0)",
          "arrowhead": 3,
          "arrowwidth": 1.5,
          "ax": -231.46,
          "axref": "x",
          "ay": 98.81,
          "ayref": "y",
          "showarrow": true,
          "text": "",
          "x": -271.38415088380583,
          "xref": "x",
          "y": 101.27214869719653,
          "yref": "y"
         },
         {
          "arrowcolor": "rgb(255,51,0)",
          "arrowhead": 3,
          "arrowwidth": 1.5,
          "ax": -148.7,
          "axref": "x",
          "ay": -55.57,
          "ayref": "y",
          "showarrow": true,
          "text": "",
          "x": -149.99533271038896,
          "xref": "x",
          "y": -95.54902091309137,
          "yref": "y"
         },
         {
          "arrowcolor": "rgb(255,51,0)",
          "arrowhead": 3,
          "arrowwidth": 1.5,
          "ax": 304.84,
          "axref": "x",
          "ay": -128.92,
          "ayref": "y",
          "showarrow": true,
          "text": "",
          "x": 332.7082683738866,
          "xref": "x",
          "y": -157.6142436359809,
          "yref": "y"
         },
         {
          "arrowcolor": "rgb(255,51,0)",
          "arrowhead": 3,
          "arrowwidth": 1.5,
          "ax": 276.22,
          "axref": "x",
          "ay": -64.53,
          "ayref": "y",
          "showarrow": true,
          "text": "",
          "x": 294.71941467501205,
          "xref": "x",
          "y": -29.064923422020513,
          "yref": "y"
         },
         {
          "arrowcolor": "rgb(255,51,0)",
          "arrowhead": 3,
          "arrowwidth": 1.5,
          "ax": -102.46,
          "axref": "x",
          "ay": 156.71,
          "ayref": "y",
          "showarrow": true,
          "text": "",
          "x": -115.39158267454013,
          "xref": "x",
          "y": 194.56200350749657,
          "yref": "y"
         },
         {
          "arrowcolor": "rgb(255,51,0)",
          "arrowhead": 3,
          "arrowwidth": 1.5,
          "ax": -306.36,
          "axref": "x",
          "ay": 8.8,
          "ayref": "y",
          "showarrow": true,
          "text": "",
          "x": -346.20378460824327,
          "xref": "x",
          "y": 5.268310872695697,
          "yref": "y"
         },
         {
          "arrowcolor": "rgb(255,51,0)",
          "arrowhead": 3,
          "arrowwidth": 1.5,
          "ax": -190.69,
          "axref": "x",
          "ay": -170.43,
          "ayref": "y",
          "showarrow": true,
          "text": "",
          "x": -191.98533271038897,
          "xref": "x",
          "y": -210.40902091309135,
          "yref": "y"
         },
         {
          "arrowcolor": "rgb(255,51,0)",
          "arrowhead": 3,
          "arrowwidth": 1.5,
          "ax": 204.68,
          "axref": "x",
          "ay": -182.04,
          "ayref": "y",
          "showarrow": true,
          "text": "",
          "x": 238.13850599660748,
          "xref": "x",
          "y": -203.96095747167493,
          "yref": "y"
         },
         {
          "arrowcolor": "rgb(255,51,0)",
          "arrowhead": 3,
          "arrowwidth": 1.5,
          "ax": 172.44,
          "axref": "x",
          "ay": -105.68,
          "ayref": "y",
          "showarrow": true,
          "text": "",
          "x": 189.14378015833432,
          "xref": "x",
          "y": -69.33466015536467,
          "yref": "y"
         },
         {
          "arrowcolor": "rgb(255,51,0)",
          "arrowhead": 3,
          "arrowwidth": 1.5,
          "ax": -195.19,
          "axref": "x",
          "ay": 82.39,
          "ayref": "y",
          "showarrow": true,
          "text": "",
          "x": -213.9869245491041,
          "xref": "x",
          "y": 117.69829403263896,
          "yref": "y"
         },
         {
          "arrowcolor": "rgb(255,51,0)",
          "arrowhead": 3,
          "arrowwidth": 1.5,
          "ax": -320.55,
          "axref": "x",
          "ay": -89.57,
          "ayref": "y",
          "showarrow": true,
          "text": "",
          "x": -356.7671555791852,
          "xref": "x",
          "y": -106.5499187793433,
          "yref": "y"
         },
         {
          "arrowcolor": "rgb(255,51,0)",
          "arrowhead": 3,
          "arrowwidth": 1.5,
          "ax": -150.74,
          "axref": "x",
          "ay": -220.44,
          "ayref": "y",
          "showarrow": true,
          "text": "",
          "x": -135.2513265398025,
          "xref": "x",
          "y": -257.31954710192866,
          "yref": "y"
         }
        ],
        "height": 800,
        "shapes": [
         {
          "line": {
           "color": "black",
           "width": 2
          },
          "type": "rect",
          "x0": -270,
          "x1": 270,
          "y0": -170,
          "y1": 170
         }
        ],
        "template": {
         "data": {
          "bar": [
           {
            "error_x": {
             "color": "#2a3f5f"
            },
            "error_y": {
             "color": "#2a3f5f"
            },
            "marker": {
             "line": {
              "color": "white",
              "width": 0.5
             },
             "pattern": {
              "fillmode": "overlay",
              "size": 10,
              "solidity": 0.2
             }
            },
            "type": "bar"
           }
          ],
          "barpolar": [
           {
            "marker": {
             "line": {
              "color": "white",
              "width": 0.5
             },
             "pattern": {
              "fillmode": "overlay",
              "size": 10,
              "solidity": 0.2
             }
            },
            "type": "barpolar"
           }
          ],
          "carpet": [
           {
            "aaxis": {
             "endlinecolor": "#2a3f5f",
             "gridcolor": "#C8D4E3",
             "linecolor": "#C8D4E3",
             "minorgridcolor": "#C8D4E3",
             "startlinecolor": "#2a3f5f"
            },
            "baxis": {
             "endlinecolor": "#2a3f5f",
             "gridcolor": "#C8D4E3",
             "linecolor": "#C8D4E3",
             "minorgridcolor": "#C8D4E3",
             "startlinecolor": "#2a3f5f"
            },
            "type": "carpet"
           }
          ],
          "choropleth": [
           {
            "colorbar": {
             "outlinewidth": 0,
             "ticks": ""
            },
            "type": "choropleth"
           }
          ],
          "contour": [
           {
            "colorbar": {
             "outlinewidth": 0,
             "ticks": ""
            },
            "colorscale": [
             [
              0,
              "#0d0887"
             ],
             [
              0.1111111111111111,
              "#46039f"
             ],
             [
              0.2222222222222222,
              "#7201a8"
             ],
             [
              0.3333333333333333,
              "#9c179e"
             ],
             [
              0.4444444444444444,
              "#bd3786"
             ],
             [
              0.5555555555555556,
              "#d8576b"
             ],
             [
              0.6666666666666666,
              "#ed7953"
             ],
             [
              0.7777777777777778,
              "#fb9f3a"
             ],
             [
              0.8888888888888888,
              "#fdca26"
             ],
             [
              1,
              "#f0f921"
             ]
            ],
            "type": "contour"
           }
          ],
          "contourcarpet": [
           {
            "colorbar": {
             "outlinewidth": 0,
             "ticks": ""
            },
            "type": "contourcarpet"
           }
          ],
          "heatmap": [
           {
            "colorbar": {
             "outlinewidth": 0,
             "ticks": ""
            },
            "colorscale": [
             [
              0,
              "#0d0887"
             ],
             [
              0.1111111111111111,
              "#46039f"
             ],
             [
              0.2222222222222222,
              "#7201a8"
             ],
             [
              0.3333333333333333,
              "#9c179e"
             ],
             [
              0.4444444444444444,
              "#bd3786"
             ],
             [
              0.5555555555555556,
              "#d8576b"
             ],
             [
              0.6666666666666666,
              "#ed7953"
             ],
             [
              0.7777777777777778,
              "#fb9f3a"
             ],
             [
              0.8888888888888888,
              "#fdca26"
             ],
             [
              1,
              "#f0f921"
             ]
            ],
            "type": "heatmap"
           }
          ],
          "heatmapgl": [
           {
            "colorbar": {
             "outlinewidth": 0,
             "ticks": ""
            },
            "colorscale": [
             [
              0,
              "#0d0887"
             ],
             [
              0.1111111111111111,
              "#46039f"
             ],
             [
              0.2222222222222222,
              "#7201a8"
             ],
             [
              0.3333333333333333,
              "#9c179e"
             ],
             [
              0.4444444444444444,
              "#bd3786"
             ],
             [
              0.5555555555555556,
              "#d8576b"
             ],
             [
              0.6666666666666666,
              "#ed7953"
             ],
             [
              0.7777777777777778,
              "#fb9f3a"
             ],
             [
              0.8888888888888888,
              "#fdca26"
             ],
             [
              1,
              "#f0f921"
             ]
            ],
            "type": "heatmapgl"
           }
          ],
          "histogram": [
           {
            "marker": {
             "pattern": {
              "fillmode": "overlay",
              "size": 10,
              "solidity": 0.2
             }
            },
            "type": "histogram"
           }
          ],
          "histogram2d": [
           {
            "colorbar": {
             "outlinewidth": 0,
             "ticks": ""
            },
            "colorscale": [
             [
              0,
              "#0d0887"
             ],
             [
              0.1111111111111111,
              "#46039f"
             ],
             [
              0.2222222222222222,
              "#7201a8"
             ],
             [
              0.3333333333333333,
              "#9c179e"
             ],
             [
              0.4444444444444444,
              "#bd3786"
             ],
             [
              0.5555555555555556,
              "#d8576b"
             ],
             [
              0.6666666666666666,
              "#ed7953"
             ],
             [
              0.7777777777777778,
              "#fb9f3a"
             ],
             [
              0.8888888888888888,
              "#fdca26"
             ],
             [
              1,
              "#f0f921"
             ]
            ],
            "type": "histogram2d"
           }
          ],
          "histogram2dcontour": [
           {
            "colorbar": {
             "outlinewidth": 0,
             "ticks": ""
            },
            "colorscale": [
             [
              0,
              "#0d0887"
             ],
             [
              0.1111111111111111,
              "#46039f"
             ],
             [
              0.2222222222222222,
              "#7201a8"
             ],
             [
              0.3333333333333333,
              "#9c179e"
             ],
             [
              0.4444444444444444,
              "#bd3786"
             ],
             [
              0.5555555555555556,
              "#d8576b"
             ],
             [
              0.6666666666666666,
              "#ed7953"
             ],
             [
              0.7777777777777778,
              "#fb9f3a"
             ],
             [
              0.8888888888888888,
              "#fdca26"
             ],
             [
              1,
              "#f0f921"
             ]
            ],
            "type": "histogram2dcontour"
           }
          ],
          "mesh3d": [
           {
            "colorbar": {
             "outlinewidth": 0,
             "ticks": ""
            },
            "type": "mesh3d"
           }
          ],
          "parcoords": [
           {
            "line": {
             "colorbar": {
              "outlinewidth": 0,
              "ticks": ""
             }
            },
            "type": "parcoords"
           }
          ],
          "pie": [
           {
            "automargin": true,
            "type": "pie"
           }
          ],
          "scatter": [
           {
            "marker": {
             "colorbar": {
              "outlinewidth": 0,
              "ticks": ""
             }
            },
            "type": "scatter"
           }
          ],
          "scatter3d": [
           {
            "line": {
             "colorbar": {
              "outlinewidth": 0,
              "ticks": ""
             }
            },
            "marker": {
             "colorbar": {
              "outlinewidth": 0,
              "ticks": ""
             }
            },
            "type": "scatter3d"
           }
          ],
          "scattercarpet": [
           {
            "marker": {
             "colorbar": {
              "outlinewidth": 0,
              "ticks": ""
             }
            },
            "type": "scattercarpet"
           }
          ],
          "scattergeo": [
           {
            "marker": {
             "colorbar": {
              "outlinewidth": 0,
              "ticks": ""
             }
            },
            "type": "scattergeo"
           }
          ],
          "scattergl": [
           {
            "marker": {
             "colorbar": {
              "outlinewidth": 0,
              "ticks": ""
             }
            },
            "type": "scattergl"
           }
          ],
          "scattermapbox": [
           {
            "marker": {
             "colorbar": {
              "outlinewidth": 0,
              "ticks": ""
             }
            },
            "type": "scattermapbox"
           }
          ],
          "scatterpolar": [
           {
            "marker": {
             "colorbar": {
              "outlinewidth": 0,
              "ticks": ""
             }
            },
            "type": "scatterpolar"
           }
          ],
          "scatterpolargl": [
           {
            "marker": {
             "colorbar": {
              "outlinewidth": 0,
              "ticks": ""
             }
            },
            "type": "scatterpolargl"
           }
          ],
          "scatterternary": [
           {
            "marker": {
             "colorbar": {
              "outlinewidth": 0,
              "ticks": ""
             }
            },
            "type": "scatterternary"
           }
          ],
          "surface": [
           {
            "colorbar": {
             "outlinewidth": 0,
             "ticks": ""
            },
            "colorscale": [
             [
              0,
              "#0d0887"
             ],
             [
              0.1111111111111111,
              "#46039f"
             ],
             [
              0.2222222222222222,
              "#7201a8"
             ],
             [
              0.3333333333333333,
              "#9c179e"
             ],
             [
              0.4444444444444444,
              "#bd3786"
             ],
             [
              0.5555555555555556,
              "#d8576b"
             ],
             [
              0.6666666666666666,
              "#ed7953"
             ],
             [
              0.7777777777777778,
              "#fb9f3a"
             ],
             [
              0.8888888888888888,
              "#fdca26"
             ],
             [
              1,
              "#f0f921"
             ]
            ],
            "type": "surface"
           }
          ],
          "table": [
           {
            "cells": {
             "fill": {
              "color": "#EBF0F8"
             },
             "line": {
              "color": "white"
             }
            },
            "header": {
             "fill": {
              "color": "#C8D4E3"
             },
             "line": {
              "color": "white"
             }
            },
            "type": "table"
           }
          ]
         },
         "layout": {
          "annotationdefaults": {
           "arrowcolor": "#2a3f5f",
           "arrowhead": 0,
           "arrowwidth": 1
          },
          "autotypenumbers": "strict",
          "coloraxis": {
           "colorbar": {
            "outlinewidth": 0,
            "ticks": ""
           }
          },
          "colorscale": {
           "diverging": [
            [
             0,
             "#8e0152"
            ],
            [
             0.1,
             "#c51b7d"
            ],
            [
             0.2,
             "#de77ae"
            ],
            [
             0.3,
             "#f1b6da"
            ],
            [
             0.4,
             "#fde0ef"
            ],
            [
             0.5,
             "#f7f7f7"
            ],
            [
             0.6,
             "#e6f5d0"
            ],
            [
             0.7,
             "#b8e186"
            ],
            [
             0.8,
             "#7fbc41"
            ],
            [
             0.9,
             "#4d9221"
            ],
            [
             1,
             "#276419"
            ]
           ],
           "sequential": [
            [
             0,
             "#0d0887"
            ],
            [
             0.1111111111111111,
             "#46039f"
            ],
            [
             0.2222222222222222,
             "#7201a8"
            ],
            [
             0.3333333333333333,
             "#9c179e"
            ],
            [
             0.4444444444444444,
             "#bd3786"
            ],
            [
             0.5555555555555556,
             "#d8576b"
            ],
            [
             0.6666666666666666,
             "#ed7953"
            ],
            [
             0.7777777777777778,
             "#fb9f3a"
            ],
            [
             0.8888888888888888,
             "#fdca26"
            ],
            [
             1,
             "#f0f921"
            ]
           ],
           "sequentialminus": [
            [
             0,
             "#0d0887"
            ],
            [
             0.1111111111111111,
             "#46039f"
            ],
            [
             0.2222222222222222,
             "#7201a8"
            ],
            [
             0.3333333333333333,
             "#9c179e"
            ],
            [
             0.4444444444444444,
             "#bd3786"
            ],
            [
             0.5555555555555556,
             "#d8576b"
            ],
            [
             0.6666666666666666,
             "#ed7953"
            ],
            [
             0.7777777777777778,
             "#fb9f3a"
            ],
            [
             0.8888888888888888,
             "#fdca26"
            ],
            [
             1,
             "#f0f921"
            ]
           ]
          },
          "colorway": [
           "#636efa",
           "#EF553B",
           "#00cc96",
           "#ab63fa",
           "#FFA15A",
           "#19d3f3",
           "#FF6692",
           "#B6E880",
           "#FF97FF",
           "#FECB52"
          ],
          "font": {
           "color": "#2a3f5f"
          },
          "geo": {
           "bgcolor": "white",
           "lakecolor": "white",
           "landcolor": "white",
           "showlakes": true,
           "showland": true,
           "subunitcolor": "#C8D4E3"
          },
          "hoverlabel": {
           "align": "left"
          },
          "hovermode": "closest",
          "mapbox": {
           "style": "light"
          },
          "paper_bgcolor": "white",
          "plot_bgcolor": "white",
          "polar": {
           "angularaxis": {
            "gridcolor": "#EBF0F8",
            "linecolor": "#EBF0F8",
            "ticks": ""
           },
           "bgcolor": "white",
           "radialaxis": {
            "gridcolor": "#EBF0F8",
            "linecolor": "#EBF0F8",
            "ticks": ""
           }
          },
          "scene": {
           "xaxis": {
            "backgroundcolor": "white",
            "gridcolor": "#DFE8F3",
            "gridwidth": 2,
            "linecolor": "#EBF0F8",
            "showbackground": true,
            "ticks": "",
            "zerolinecolor": "#EBF0F8"
           },
           "yaxis": {
            "backgroundcolor": "white",
            "gridcolor": "#DFE8F3",
            "gridwidth": 2,
            "linecolor": "#EBF0F8",
            "showbackground": true,
            "ticks": "",
            "zerolinecolor": "#EBF0F8"
           },
           "zaxis": {
            "backgroundcolor": "white",
            "gridcolor": "#DFE8F3",
            "gridwidth": 2,
            "linecolor": "#EBF0F8",
            "showbackground": true,
            "ticks": "",
            "zerolinecolor": "#EBF0F8"
           }
          },
          "shapedefaults": {
           "line": {
            "color": "#2a3f5f"
           }
          },
          "ternary": {
           "aaxis": {
            "gridcolor": "#DFE8F3",
            "linecolor": "#A2B1C6",
            "ticks": ""
           },
           "baxis": {
            "gridcolor": "#DFE8F3",
            "linecolor": "#A2B1C6",
            "ticks": ""
           },
           "bgcolor": "white",
           "caxis": {
            "gridcolor": "#DFE8F3",
            "linecolor": "#A2B1C6",
            "ticks": ""
           }
          },
          "title": {
           "x": 0.05
          },
          "xaxis": {
           "automargin": true,
           "gridcolor": "#EBF0F8",
           "linecolor": "#EBF0F8",
           "ticks": "",
           "title": {
            "standoff": 15
           },
           "zerolinecolor": "#EBF0F8",
           "zerolinewidth": 2
          },
          "yaxis": {
           "automargin": true,
           "gridcolor": "#EBF0F8",
           "linecolor": "#EBF0F8",
           "ticks": "",
           "title": {
            "standoff": 15
           },
           "zerolinecolor": "#EBF0F8",
           "zerolinewidth": 2
          }
         }
        },
        "width": 800,
        "xaxis": {
         "title": {
          "text": "X Displacement [mm]"
         }
        },
        "yaxis": {
         "scaleanchor": "x",
         "scaleratio": 1,
         "title": {
          "text": "Y Displacement [mm]"
         }
        }
       }
      },
      "text/html": [
       "<div>                            <div id=\"126dd37f-6696-4484-b9f6-56921cce6dba\" class=\"plotly-graph-div\" style=\"height:800px; width:800px;\"></div>            <script type=\"text/javascript\">                require([\"plotly\"], function(Plotly) {                    window.PLOTLYENV=window.PLOTLYENV || {};                                    if (document.getElementById(\"126dd37f-6696-4484-b9f6-56921cce6dba\")) {                    Plotly.newPlot(                        \"126dd37f-6696-4484-b9f6-56921cce6dba\",                        [{\"marker\":{\"size\":10},\"mode\":\"markers\",\"showlegend\":false,\"x\":[288.68,293.72,56.22,-280.19,-193.44,26.04,324.41,258.53,1.37,-118.87,57.15,151.05,-3.1,-143.72,-105.04,287.37,272.91,-41.05,-231.46,-148.7,304.84,276.22,-102.46,-306.36,-190.69,204.68,172.44,-195.19,-320.55,-150.74],\"y\":[-101.49,45.92,129.49,-98.6,-241.29,-154.35,-20.14,155.88,124.18,-292.89,-376.12,-211.91,238.66,189.46,-6.77,-128.07,-51.5,211.4,98.81,-55.57,-128.92,-64.53,156.71,8.8,-170.43,-182.04,-105.68,82.39,-89.57,-220.44],\"type\":\"scatter\"},{\"line\":{\"color\":\"green\",\"width\":0.5},\"mode\":\"lines\",\"showlegend\":false,\"x\":[288.68,293.72,56.22,-280.19,-193.44,26.04,324.41,258.53,1.37,-118.87,57.15,151.05,-3.1,-143.72,-105.04,287.37,272.91,-41.05,-231.46,-148.7,304.84,276.22,-102.46,-306.36,-190.69,204.68,172.44,-195.19,-320.55,-150.74],\"y\":[-101.49,45.92,129.49,-98.6,-241.29,-154.35,-20.14,155.88,124.18,-292.89,-376.12,-211.91,238.66,189.46,-6.77,-128.07,-51.5,211.4,98.81,-55.57,-128.92,-64.53,156.71,8.8,-170.43,-182.04,-105.68,82.39,-89.57,-220.44],\"type\":\"scatter\"}],                        {\"template\":{\"data\":{\"barpolar\":[{\"marker\":{\"line\":{\"color\":\"white\",\"width\":0.5},\"pattern\":{\"fillmode\":\"overlay\",\"size\":10,\"solidity\":0.2}},\"type\":\"barpolar\"}],\"bar\":[{\"error_x\":{\"color\":\"#2a3f5f\"},\"error_y\":{\"color\":\"#2a3f5f\"},\"marker\":{\"line\":{\"color\":\"white\",\"width\":0.5},\"pattern\":{\"fillmode\":\"overlay\",\"size\":10,\"solidity\":0.2}},\"type\":\"bar\"}],\"carpet\":[{\"aaxis\":{\"endlinecolor\":\"#2a3f5f\",\"gridcolor\":\"#C8D4E3\",\"linecolor\":\"#C8D4E3\",\"minorgridcolor\":\"#C8D4E3\",\"startlinecolor\":\"#2a3f5f\"},\"baxis\":{\"endlinecolor\":\"#2a3f5f\",\"gridcolor\":\"#C8D4E3\",\"linecolor\":\"#C8D4E3\",\"minorgridcolor\":\"#C8D4E3\",\"startlinecolor\":\"#2a3f5f\"},\"type\":\"carpet\"}],\"choropleth\":[{\"colorbar\":{\"outlinewidth\":0,\"ticks\":\"\"},\"type\":\"choropleth\"}],\"contourcarpet\":[{\"colorbar\":{\"outlinewidth\":0,\"ticks\":\"\"},\"type\":\"contourcarpet\"}],\"contour\":[{\"colorbar\":{\"outlinewidth\":0,\"ticks\":\"\"},\"colorscale\":[[0.0,\"#0d0887\"],[0.1111111111111111,\"#46039f\"],[0.2222222222222222,\"#7201a8\"],[0.3333333333333333,\"#9c179e\"],[0.4444444444444444,\"#bd3786\"],[0.5555555555555556,\"#d8576b\"],[0.6666666666666666,\"#ed7953\"],[0.7777777777777778,\"#fb9f3a\"],[0.8888888888888888,\"#fdca26\"],[1.0,\"#f0f921\"]],\"type\":\"contour\"}],\"heatmapgl\":[{\"colorbar\":{\"outlinewidth\":0,\"ticks\":\"\"},\"colorscale\":[[0.0,\"#0d0887\"],[0.1111111111111111,\"#46039f\"],[0.2222222222222222,\"#7201a8\"],[0.3333333333333333,\"#9c179e\"],[0.4444444444444444,\"#bd3786\"],[0.5555555555555556,\"#d8576b\"],[0.6666666666666666,\"#ed7953\"],[0.7777777777777778,\"#fb9f3a\"],[0.8888888888888888,\"#fdca26\"],[1.0,\"#f0f921\"]],\"type\":\"heatmapgl\"}],\"heatmap\":[{\"colorbar\":{\"outlinewidth\":0,\"ticks\":\"\"},\"colorscale\":[[0.0,\"#0d0887\"],[0.1111111111111111,\"#46039f\"],[0.2222222222222222,\"#7201a8\"],[0.3333333333333333,\"#9c179e\"],[0.4444444444444444,\"#bd3786\"],[0.5555555555555556,\"#d8576b\"],[0.6666666666666666,\"#ed7953\"],[0.7777777777777778,\"#fb9f3a\"],[0.8888888888888888,\"#fdca26\"],[1.0,\"#f0f921\"]],\"type\":\"heatmap\"}],\"histogram2dcontour\":[{\"colorbar\":{\"outlinewidth\":0,\"ticks\":\"\"},\"colorscale\":[[0.0,\"#0d0887\"],[0.1111111111111111,\"#46039f\"],[0.2222222222222222,\"#7201a8\"],[0.3333333333333333,\"#9c179e\"],[0.4444444444444444,\"#bd3786\"],[0.5555555555555556,\"#d8576b\"],[0.6666666666666666,\"#ed7953\"],[0.7777777777777778,\"#fb9f3a\"],[0.8888888888888888,\"#fdca26\"],[1.0,\"#f0f921\"]],\"type\":\"histogram2dcontour\"}],\"histogram2d\":[{\"colorbar\":{\"outlinewidth\":0,\"ticks\":\"\"},\"colorscale\":[[0.0,\"#0d0887\"],[0.1111111111111111,\"#46039f\"],[0.2222222222222222,\"#7201a8\"],[0.3333333333333333,\"#9c179e\"],[0.4444444444444444,\"#bd3786\"],[0.5555555555555556,\"#d8576b\"],[0.6666666666666666,\"#ed7953\"],[0.7777777777777778,\"#fb9f3a\"],[0.8888888888888888,\"#fdca26\"],[1.0,\"#f0f921\"]],\"type\":\"histogram2d\"}],\"histogram\":[{\"marker\":{\"pattern\":{\"fillmode\":\"overlay\",\"size\":10,\"solidity\":0.2}},\"type\":\"histogram\"}],\"mesh3d\":[{\"colorbar\":{\"outlinewidth\":0,\"ticks\":\"\"},\"type\":\"mesh3d\"}],\"parcoords\":[{\"line\":{\"colorbar\":{\"outlinewidth\":0,\"ticks\":\"\"}},\"type\":\"parcoords\"}],\"pie\":[{\"automargin\":true,\"type\":\"pie\"}],\"scatter3d\":[{\"line\":{\"colorbar\":{\"outlinewidth\":0,\"ticks\":\"\"}},\"marker\":{\"colorbar\":{\"outlinewidth\":0,\"ticks\":\"\"}},\"type\":\"scatter3d\"}],\"scattercarpet\":[{\"marker\":{\"colorbar\":{\"outlinewidth\":0,\"ticks\":\"\"}},\"type\":\"scattercarpet\"}],\"scattergeo\":[{\"marker\":{\"colorbar\":{\"outlinewidth\":0,\"ticks\":\"\"}},\"type\":\"scattergeo\"}],\"scattergl\":[{\"marker\":{\"colorbar\":{\"outlinewidth\":0,\"ticks\":\"\"}},\"type\":\"scattergl\"}],\"scattermapbox\":[{\"marker\":{\"colorbar\":{\"outlinewidth\":0,\"ticks\":\"\"}},\"type\":\"scattermapbox\"}],\"scatterpolargl\":[{\"marker\":{\"colorbar\":{\"outlinewidth\":0,\"ticks\":\"\"}},\"type\":\"scatterpolargl\"}],\"scatterpolar\":[{\"marker\":{\"colorbar\":{\"outlinewidth\":0,\"ticks\":\"\"}},\"type\":\"scatterpolar\"}],\"scatter\":[{\"marker\":{\"colorbar\":{\"outlinewidth\":0,\"ticks\":\"\"}},\"type\":\"scatter\"}],\"scatterternary\":[{\"marker\":{\"colorbar\":{\"outlinewidth\":0,\"ticks\":\"\"}},\"type\":\"scatterternary\"}],\"surface\":[{\"colorbar\":{\"outlinewidth\":0,\"ticks\":\"\"},\"colorscale\":[[0.0,\"#0d0887\"],[0.1111111111111111,\"#46039f\"],[0.2222222222222222,\"#7201a8\"],[0.3333333333333333,\"#9c179e\"],[0.4444444444444444,\"#bd3786\"],[0.5555555555555556,\"#d8576b\"],[0.6666666666666666,\"#ed7953\"],[0.7777777777777778,\"#fb9f3a\"],[0.8888888888888888,\"#fdca26\"],[1.0,\"#f0f921\"]],\"type\":\"surface\"}],\"table\":[{\"cells\":{\"fill\":{\"color\":\"#EBF0F8\"},\"line\":{\"color\":\"white\"}},\"header\":{\"fill\":{\"color\":\"#C8D4E3\"},\"line\":{\"color\":\"white\"}},\"type\":\"table\"}]},\"layout\":{\"annotationdefaults\":{\"arrowcolor\":\"#2a3f5f\",\"arrowhead\":0,\"arrowwidth\":1},\"autotypenumbers\":\"strict\",\"coloraxis\":{\"colorbar\":{\"outlinewidth\":0,\"ticks\":\"\"}},\"colorscale\":{\"diverging\":[[0,\"#8e0152\"],[0.1,\"#c51b7d\"],[0.2,\"#de77ae\"],[0.3,\"#f1b6da\"],[0.4,\"#fde0ef\"],[0.5,\"#f7f7f7\"],[0.6,\"#e6f5d0\"],[0.7,\"#b8e186\"],[0.8,\"#7fbc41\"],[0.9,\"#4d9221\"],[1,\"#276419\"]],\"sequential\":[[0.0,\"#0d0887\"],[0.1111111111111111,\"#46039f\"],[0.2222222222222222,\"#7201a8\"],[0.3333333333333333,\"#9c179e\"],[0.4444444444444444,\"#bd3786\"],[0.5555555555555556,\"#d8576b\"],[0.6666666666666666,\"#ed7953\"],[0.7777777777777778,\"#fb9f3a\"],[0.8888888888888888,\"#fdca26\"],[1.0,\"#f0f921\"]],\"sequentialminus\":[[0.0,\"#0d0887\"],[0.1111111111111111,\"#46039f\"],[0.2222222222222222,\"#7201a8\"],[0.3333333333333333,\"#9c179e\"],[0.4444444444444444,\"#bd3786\"],[0.5555555555555556,\"#d8576b\"],[0.6666666666666666,\"#ed7953\"],[0.7777777777777778,\"#fb9f3a\"],[0.8888888888888888,\"#fdca26\"],[1.0,\"#f0f921\"]]},\"colorway\":[\"#636efa\",\"#EF553B\",\"#00cc96\",\"#ab63fa\",\"#FFA15A\",\"#19d3f3\",\"#FF6692\",\"#B6E880\",\"#FF97FF\",\"#FECB52\"],\"font\":{\"color\":\"#2a3f5f\"},\"geo\":{\"bgcolor\":\"white\",\"lakecolor\":\"white\",\"landcolor\":\"white\",\"showlakes\":true,\"showland\":true,\"subunitcolor\":\"#C8D4E3\"},\"hoverlabel\":{\"align\":\"left\"},\"hovermode\":\"closest\",\"mapbox\":{\"style\":\"light\"},\"paper_bgcolor\":\"white\",\"plot_bgcolor\":\"white\",\"polar\":{\"angularaxis\":{\"gridcolor\":\"#EBF0F8\",\"linecolor\":\"#EBF0F8\",\"ticks\":\"\"},\"bgcolor\":\"white\",\"radialaxis\":{\"gridcolor\":\"#EBF0F8\",\"linecolor\":\"#EBF0F8\",\"ticks\":\"\"}},\"scene\":{\"xaxis\":{\"backgroundcolor\":\"white\",\"gridcolor\":\"#DFE8F3\",\"gridwidth\":2,\"linecolor\":\"#EBF0F8\",\"showbackground\":true,\"ticks\":\"\",\"zerolinecolor\":\"#EBF0F8\"},\"yaxis\":{\"backgroundcolor\":\"white\",\"gridcolor\":\"#DFE8F3\",\"gridwidth\":2,\"linecolor\":\"#EBF0F8\",\"showbackground\":true,\"ticks\":\"\",\"zerolinecolor\":\"#EBF0F8\"},\"zaxis\":{\"backgroundcolor\":\"white\",\"gridcolor\":\"#DFE8F3\",\"gridwidth\":2,\"linecolor\":\"#EBF0F8\",\"showbackground\":true,\"ticks\":\"\",\"zerolinecolor\":\"#EBF0F8\"}},\"shapedefaults\":{\"line\":{\"color\":\"#2a3f5f\"}},\"ternary\":{\"aaxis\":{\"gridcolor\":\"#DFE8F3\",\"linecolor\":\"#A2B1C6\",\"ticks\":\"\"},\"baxis\":{\"gridcolor\":\"#DFE8F3\",\"linecolor\":\"#A2B1C6\",\"ticks\":\"\"},\"bgcolor\":\"white\",\"caxis\":{\"gridcolor\":\"#DFE8F3\",\"linecolor\":\"#A2B1C6\",\"ticks\":\"\"}},\"title\":{\"x\":0.05},\"xaxis\":{\"automargin\":true,\"gridcolor\":\"#EBF0F8\",\"linecolor\":\"#EBF0F8\",\"ticks\":\"\",\"title\":{\"standoff\":15},\"zerolinecolor\":\"#EBF0F8\",\"zerolinewidth\":2},\"yaxis\":{\"automargin\":true,\"gridcolor\":\"#EBF0F8\",\"linecolor\":\"#EBF0F8\",\"ticks\":\"\",\"title\":{\"standoff\":15},\"zerolinecolor\":\"#EBF0F8\",\"zerolinewidth\":2}}},\"width\":800,\"height\":800,\"shapes\":[{\"line\":{\"color\":\"black\",\"width\":2},\"type\":\"rect\",\"x0\":-270,\"x1\":270,\"y0\":-170,\"y1\":170}],\"annotations\":[{\"arrowcolor\":\"rgb(255,51,0)\",\"arrowhead\":3,\"arrowwidth\":1.5,\"ax\":288.68,\"axref\":\"x\",\"ay\":-101.49,\"ayref\":\"y\",\"showarrow\":true,\"text\":\"\",\"x\":320.52335194196223,\"xref\":\"x\",\"y\":-125.69745622944157,\"yref\":\"y\"},{\"arrowcolor\":\"rgb(255,51,0)\",\"arrowhead\":3,\"arrowwidth\":1.5,\"ax\":293.72,\"axref\":\"x\",\"ay\":45.92,\"ayref\":\"y\",\"showarrow\":true,\"text\":\"\",\"x\":316.9873235785554,\"xref\":\"x\",\"y\":78.45662019157496,\"yref\":\"y\"},{\"arrowcolor\":\"rgb(255,51,0)\",\"arrowhead\":3,\"arrowwidth\":1.5,\"ax\":56.22,\"axref\":\"x\",\"ay\":129.49,\"ayref\":\"y\",\"showarrow\":true,\"text\":\"\",\"x\":30.78308733623991,\"xref\":\"x\",\"y\":160.36010648080506,\"yref\":\"y\"},{\"arrowcolor\":\"rgb(255,51,0)\",\"arrowhead\":3,\"arrowwidth\":1.5,\"ax\":-280.19,\"axref\":\"x\",\"ay\":-98.6,\"ayref\":\"y\",\"showarrow\":true,\"text\":\"\",\"x\":-320.18858633885367,\"xref\":\"x\",\"y\":-98.93628989468594,\"yref\":\"y\"},{\"arrowcolor\":\"rgb(255,51,0)\",\"arrowhead\":3,\"arrowwidth\":1.5,\"ax\":-193.44,\"axref\":\"x\",\"ay\":-241.29,\"ayref\":\"y\",\"showarrow\":true,\"text\":\"\",\"x\":-192.73559562830772,\"xref\":\"x\",\"y\":-281.2837972000802,\"yref\":\"y\"},{\"arrowcolor\":\"rgb(255,51,0)\",\"arrowhead\":3,\"arrowwidth\":1.5,\"ax\":26.04,\"axref\":\"x\",\"ay\":-154.35,\"ayref\":\"y\",\"showarrow\":true,\"text\":\"\",\"x\":65.5908431174417,\"xref\":\"x\",\"y\":-160.32752529894395,\"yref\":\"y\"},{\"arrowcolor\":\"rgb(255,51,0)\",\"arrowhead\":3,\"arrowwidth\":1.5,\"ax\":324.41,\"axref\":\"x\",\"ay\":-20.14,\"ayref\":\"y\",\"showarrow\":true,\"text\":\"\",\"x\":363.16649686842584,\"xref\":\"x\",\"y\":-30.036158370180917,\"yref\":\"y\"},{\"arrowcolor\":\"rgb(255,51,0)\",\"arrowhead\":3,\"arrowwidth\":1.5,\"ax\":258.53,\"axref\":\"x\",\"ay\":155.88,\"ayref\":\"y\",\"showarrow\":true,\"text\":\"\",\"x\":264.5390187964674,\"xref\":\"x\",\"y\":195.42607051406878,\"yref\":\"y\"},{\"arrowcolor\":\"rgb(255,51,0)\",\"arrowhead\":3,\"arrowwidth\":1.5,\"ax\":1.37,\"axref\":\"x\",\"ay\":124.18,\"ayref\":\"y\",\"showarrow\":true,\"text\":\"\",\"x\":-35.60209514529854,\"xref\":\"x\",\"y\":139.44643968209328,\"yref\":\"y\"},{\"arrowcolor\":\"rgb(255,51,0)\",\"arrowhead\":3,\"arrowwidth\":1.5,\"ax\":-118.87,\"axref\":\"x\",\"ay\":-292.89,\"ayref\":\"y\",\"showarrow\":true,\"text\":\"\",\"x\":-150.0129272648173,\"xref\":\"x\",\"y\":-317.9921529231717,\"yref\":\"y\"},{\"arrowcolor\":\"rgb(255,51,0)\",\"arrowhead\":3,\"arrowwidth\":1.5,\"ax\":57.15,\"axref\":\"x\",\"ay\":-376.12,\"ayref\":\"y\",\"showarrow\":true,\"text\":\"\",\"x\":78.99096327926593,\"xref\":\"x\",\"y\":-409.6307792066039,\"yref\":\"y\"},{\"arrowcolor\":\"rgb(255,51,0)\",\"arrowhead\":3,\"arrowwidth\":1.5,\"ax\":151.05,\"axref\":\"x\",\"ay\":-211.91,\"ayref\":\"y\",\"showarrow\":true,\"text\":\"\",\"x\":185.95978030583007,\"xref\":\"x\",\"y\":-192.3829101246837,\"yref\":\"y\"},{\"arrowcolor\":\"rgb(255,51,0)\",\"arrowhead\":3,\"arrowwidth\":1.5,\"ax\":-3.1,\"axref\":\"x\",\"ay\":238.66,\"ayref\":\"y\",\"showarrow\":true,\"text\":\"\",\"x\":7.984835002262303,\"xref\":\"x\",\"y\":277.0934025682429,\"yref\":\"y\"},{\"arrowcolor\":\"rgb(255,51,0)\",\"arrowhead\":3,\"arrowwidth\":1.5,\"ax\":-143.72,\"axref\":\"x\",\"ay\":189.46,\"ayref\":\"y\",\"showarrow\":true,\"text\":\"\",\"x\":-182.46068656913786,\"xref\":\"x\",\"y\":199.4178714669261,\"yref\":\"y\"},{\"arrowcolor\":\"rgb(255,51,0)\",\"arrowhead\":3,\"arrowwidth\":1.5,\"ax\":-105.04,\"axref\":\"x\",\"ay\":-6.77,\"ayref\":\"y\",\"showarrow\":true,\"text\":\"\",\"x\":-120.33587670850721,\"xref\":\"x\",\"y\":-43.72992634892752,\"yref\":\"y\"},{\"arrowcolor\":\"rgb(255,51,0)\",\"arrowhead\":3,\"arrowwidth\":1.5,\"ax\":287.37,\"axref\":\"x\",\"ay\":-128.07,\"ayref\":\"y\",\"showarrow\":true,\"text\":\"\",\"x\":312.54648106294786,\"xref\":\"x\",\"y\":-159.15286990107296,\"yref\":\"y\"},{\"arrowcolor\":\"rgb(255,51,0)\",\"arrowhead\":3,\"arrowwidth\":1.5,\"ax\":272.91,\"axref\":\"x\",\"ay\":-51.5,\"ayref\":\"y\",\"showarrow\":true,\"text\":\"\",\"x\":297.14280626573856,\"xref\":\"x\",\"y\":-19.67593519854536,\"yref\":\"y\"},{\"arrowcolor\":\"rgb(255,51,0)\",\"arrowhead\":3,\"arrowwidth\":1.5,\"ax\":-41.05,\"axref\":\"x\",\"ay\":211.4,\"ayref\":\"y\",\"showarrow\":true,\"text\":\"\",\"x\":-48.96555258436436,\"xref\":\"x\",\"y\":250.60897891152183,\"yref\":\"y\"},{\"arrowcolor\":\"rgb(255,51,0)\",\"arrowhead\":3,\"arrowwidth\":1.5,\"ax\":-231.46,\"axref\":\"x\",\"ay\":98.81,\"ayref\":\"y\",\"showarrow\":true,\"text\":\"\",\"x\":-271.38415088380583,\"xref\":\"x\",\"y\":101.27214869719653,\"yref\":\"y\"},{\"arrowcolor\":\"rgb(255,51,0)\",\"arrowhead\":3,\"arrowwidth\":1.5,\"ax\":-148.7,\"axref\":\"x\",\"ay\":-55.57,\"ayref\":\"y\",\"showarrow\":true,\"text\":\"\",\"x\":-149.99533271038896,\"xref\":\"x\",\"y\":-95.54902091309137,\"yref\":\"y\"},{\"arrowcolor\":\"rgb(255,51,0)\",\"arrowhead\":3,\"arrowwidth\":1.5,\"ax\":304.84,\"axref\":\"x\",\"ay\":-128.92,\"ayref\":\"y\",\"showarrow\":true,\"text\":\"\",\"x\":332.7082683738866,\"xref\":\"x\",\"y\":-157.6142436359809,\"yref\":\"y\"},{\"arrowcolor\":\"rgb(255,51,0)\",\"arrowhead\":3,\"arrowwidth\":1.5,\"ax\":276.22,\"axref\":\"x\",\"ay\":-64.53,\"ayref\":\"y\",\"showarrow\":true,\"text\":\"\",\"x\":294.71941467501205,\"xref\":\"x\",\"y\":-29.064923422020513,\"yref\":\"y\"},{\"arrowcolor\":\"rgb(255,51,0)\",\"arrowhead\":3,\"arrowwidth\":1.5,\"ax\":-102.46,\"axref\":\"x\",\"ay\":156.71,\"ayref\":\"y\",\"showarrow\":true,\"text\":\"\",\"x\":-115.39158267454013,\"xref\":\"x\",\"y\":194.56200350749657,\"yref\":\"y\"},{\"arrowcolor\":\"rgb(255,51,0)\",\"arrowhead\":3,\"arrowwidth\":1.5,\"ax\":-306.36,\"axref\":\"x\",\"ay\":8.8,\"ayref\":\"y\",\"showarrow\":true,\"text\":\"\",\"x\":-346.20378460824327,\"xref\":\"x\",\"y\":5.268310872695697,\"yref\":\"y\"},{\"arrowcolor\":\"rgb(255,51,0)\",\"arrowhead\":3,\"arrowwidth\":1.5,\"ax\":-190.69,\"axref\":\"x\",\"ay\":-170.43,\"ayref\":\"y\",\"showarrow\":true,\"text\":\"\",\"x\":-191.98533271038897,\"xref\":\"x\",\"y\":-210.40902091309135,\"yref\":\"y\"},{\"arrowcolor\":\"rgb(255,51,0)\",\"arrowhead\":3,\"arrowwidth\":1.5,\"ax\":204.68,\"axref\":\"x\",\"ay\":-182.04,\"ayref\":\"y\",\"showarrow\":true,\"text\":\"\",\"x\":238.13850599660748,\"xref\":\"x\",\"y\":-203.96095747167493,\"yref\":\"y\"},{\"arrowcolor\":\"rgb(255,51,0)\",\"arrowhead\":3,\"arrowwidth\":1.5,\"ax\":172.44,\"axref\":\"x\",\"ay\":-105.68,\"ayref\":\"y\",\"showarrow\":true,\"text\":\"\",\"x\":189.14378015833432,\"xref\":\"x\",\"y\":-69.33466015536467,\"yref\":\"y\"},{\"arrowcolor\":\"rgb(255,51,0)\",\"arrowhead\":3,\"arrowwidth\":1.5,\"ax\":-195.19,\"axref\":\"x\",\"ay\":82.39,\"ayref\":\"y\",\"showarrow\":true,\"text\":\"\",\"x\":-213.9869245491041,\"xref\":\"x\",\"y\":117.69829403263896,\"yref\":\"y\"},{\"arrowcolor\":\"rgb(255,51,0)\",\"arrowhead\":3,\"arrowwidth\":1.5,\"ax\":-320.55,\"axref\":\"x\",\"ay\":-89.57,\"ayref\":\"y\",\"showarrow\":true,\"text\":\"\",\"x\":-356.7671555791852,\"xref\":\"x\",\"y\":-106.5499187793433,\"yref\":\"y\"},{\"arrowcolor\":\"rgb(255,51,0)\",\"arrowhead\":3,\"arrowwidth\":1.5,\"ax\":-150.74,\"axref\":\"x\",\"ay\":-220.44,\"ayref\":\"y\",\"showarrow\":true,\"text\":\"\",\"x\":-135.2513265398025,\"xref\":\"x\",\"y\":-257.31954710192866,\"yref\":\"y\"}],\"yaxis\":{\"scaleanchor\":\"x\",\"scaleratio\":1,\"title\":{\"text\":\"Y Displacement [mm]\"}},\"xaxis\":{\"title\":{\"text\":\"X Displacement [mm]\"}}},                        {\"responsive\": true}                    ).then(function(){\n",
       "                            \n",
       "var gd = document.getElementById('126dd37f-6696-4484-b9f6-56921cce6dba');\n",
       "var x = new MutationObserver(function (mutations, observer) {{\n",
       "        var display = window.getComputedStyle(gd).display;\n",
       "        if (!display || display === 'none') {{\n",
       "            console.log([gd, 'removed!']);\n",
       "            Plotly.purge(gd);\n",
       "            observer.disconnect();\n",
       "        }}\n",
       "}});\n",
       "\n",
       "// Listen for the removal of the full notebook cells\n",
       "var notebookContainer = gd.closest('#notebook-container');\n",
       "if (notebookContainer) {{\n",
       "    x.observe(notebookContainer, {childList: true});\n",
       "}}\n",
       "\n",
       "// Listen for the clearing of the current output cell\n",
       "var outputEl = gd.closest('.output');\n",
       "if (outputEl) {{\n",
       "    x.observe(outputEl, {childList: true});\n",
       "}}\n",
       "\n",
       "                        })                };                });            </script>        </div>"
      ]
     },
     "metadata": {},
     "output_type": "display_data"
    }
   ],
   "source": [
    "fig = go.Figure()\n",
    "\n",
    "#54 x 34\n",
    "fig.add_trace(go.Scatter(x=odo[\"X\"], y=odo[\"Y\"], mode=\"markers\", marker=dict(size=10), showlegend=False))\n",
    "fig.add_trace(go.Scatter(x=odo[\"X\"], y=odo[\"Y\"], mode=\"lines\", line=dict(color=\"green\", width=0.5), showlegend=False))\n",
    "\n",
    "fig.update_layout(width=800, height=800, template=\"plotly_white\")\n",
    "\n",
    "fig.add_shape(type=\"rect\",\n",
    "    x0=-270, y0=-170, x1=270, y1=170 ,\n",
    "    line=dict(color=\"black\", width=2),\n",
    "    fillcolor=None\n",
    ")\n",
    "\n",
    "for point, data in odo.iterrows():\n",
    "    fig.add_annotation(go.layout.Annotation(dict(\n",
    "                x = data[\"X\"] + 40*np.cos(data[\"Phi\"]),\n",
    "                y = data[\"Y\"] + 40*np.sin(data[\"Phi\"]),\n",
    "                xref=\"x\", yref=\"y\",\n",
    "                text=\"\",\n",
    "                showarrow = True,\n",
    "                axref = \"x\", ayref='y',\n",
    "                ax = data[\"X\"],\n",
    "                ay = data[\"Y\"],\n",
    "                arrowhead = 3,\n",
    "                arrowwidth = 1.5,\n",
    "                arrowcolor = 'rgb(255,51,0)',)\n",
    "            ))\n",
    "\n",
    "fig.update_yaxes(\n",
    "    scaleanchor = \"x\",\n",
    "    scaleratio = 1\n",
    "  )\n",
    "\n",
    "fig.update_yaxes(title=\"Y Displacement [mm]\")\n",
    "\n",
    "fig.update_xaxes(title=\"X Displacement [mm]\")\n",
    "\n",
    "fig.show()"
   ]
  },
  {
   "cell_type": "code",
   "execution_count": 25,
   "id": "9f5f6eff",
   "metadata": {},
   "outputs": [
    {
     "data": {
      "text/html": [
       "<div>\n",
       "<style scoped>\n",
       "    .dataframe tbody tr th:only-of-type {\n",
       "        vertical-align: middle;\n",
       "    }\n",
       "\n",
       "    .dataframe tbody tr th {\n",
       "        vertical-align: top;\n",
       "    }\n",
       "\n",
       "    .dataframe thead th {\n",
       "        text-align: right;\n",
       "    }\n",
       "</style>\n",
       "<table border=\"1\" class=\"dataframe\">\n",
       "  <thead>\n",
       "    <tr style=\"text-align: right;\">\n",
       "      <th></th>\n",
       "      <th>Unnamed: 0</th>\n",
       "      <th>Point</th>\n",
       "      <th>X</th>\n",
       "      <th>Y</th>\n",
       "      <th>Phi</th>\n",
       "    </tr>\n",
       "  </thead>\n",
       "  <tbody>\n",
       "    <tr>\n",
       "      <th>0</th>\n",
       "      <td>0</td>\n",
       "      <td>0.0</td>\n",
       "      <td>288.68</td>\n",
       "      <td>-101.49</td>\n",
       "      <td>-0.65</td>\n",
       "    </tr>\n",
       "    <tr>\n",
       "      <th>1</th>\n",
       "      <td>1</td>\n",
       "      <td>1.0</td>\n",
       "      <td>293.72</td>\n",
       "      <td>45.92</td>\n",
       "      <td>0.95</td>\n",
       "    </tr>\n",
       "    <tr>\n",
       "      <th>2</th>\n",
       "      <td>2</td>\n",
       "      <td>2.0</td>\n",
       "      <td>56.22</td>\n",
       "      <td>129.49</td>\n",
       "      <td>2.26</td>\n",
       "    </tr>\n",
       "    <tr>\n",
       "      <th>3</th>\n",
       "      <td>3</td>\n",
       "      <td>3.0</td>\n",
       "      <td>-280.19</td>\n",
       "      <td>-98.60</td>\n",
       "      <td>3.15</td>\n",
       "    </tr>\n",
       "    <tr>\n",
       "      <th>4</th>\n",
       "      <td>4</td>\n",
       "      <td>4.0</td>\n",
       "      <td>-193.44</td>\n",
       "      <td>-241.29</td>\n",
       "      <td>4.73</td>\n",
       "    </tr>\n",
       "    <tr>\n",
       "      <th>5</th>\n",
       "      <td>5</td>\n",
       "      <td>5.0</td>\n",
       "      <td>26.04</td>\n",
       "      <td>-154.35</td>\n",
       "      <td>-0.15</td>\n",
       "    </tr>\n",
       "    <tr>\n",
       "      <th>6</th>\n",
       "      <td>6</td>\n",
       "      <td>6.0</td>\n",
       "      <td>324.41</td>\n",
       "      <td>-20.14</td>\n",
       "      <td>-0.25</td>\n",
       "    </tr>\n",
       "    <tr>\n",
       "      <th>7</th>\n",
       "      <td>7</td>\n",
       "      <td>7.0</td>\n",
       "      <td>258.53</td>\n",
       "      <td>155.88</td>\n",
       "      <td>1.42</td>\n",
       "    </tr>\n",
       "    <tr>\n",
       "      <th>8</th>\n",
       "      <td>8</td>\n",
       "      <td>8.0</td>\n",
       "      <td>1.37</td>\n",
       "      <td>124.18</td>\n",
       "      <td>2.75</td>\n",
       "    </tr>\n",
       "    <tr>\n",
       "      <th>9</th>\n",
       "      <td>9</td>\n",
       "      <td>9.0</td>\n",
       "      <td>-118.87</td>\n",
       "      <td>-292.89</td>\n",
       "      <td>3.82</td>\n",
       "    </tr>\n",
       "    <tr>\n",
       "      <th>10</th>\n",
       "      <td>10</td>\n",
       "      <td>10.0</td>\n",
       "      <td>57.15</td>\n",
       "      <td>-376.12</td>\n",
       "      <td>5.29</td>\n",
       "    </tr>\n",
       "    <tr>\n",
       "      <th>11</th>\n",
       "      <td>11</td>\n",
       "      <td>11.0</td>\n",
       "      <td>151.05</td>\n",
       "      <td>-211.91</td>\n",
       "      <td>0.51</td>\n",
       "    </tr>\n",
       "    <tr>\n",
       "      <th>12</th>\n",
       "      <td>12</td>\n",
       "      <td>12.0</td>\n",
       "      <td>-3.10</td>\n",
       "      <td>238.66</td>\n",
       "      <td>1.29</td>\n",
       "    </tr>\n",
       "    <tr>\n",
       "      <th>13</th>\n",
       "      <td>13</td>\n",
       "      <td>13.0</td>\n",
       "      <td>-143.72</td>\n",
       "      <td>189.46</td>\n",
       "      <td>2.89</td>\n",
       "    </tr>\n",
       "    <tr>\n",
       "      <th>14</th>\n",
       "      <td>14</td>\n",
       "      <td>14.0</td>\n",
       "      <td>-105.04</td>\n",
       "      <td>-6.77</td>\n",
       "      <td>4.32</td>\n",
       "    </tr>\n",
       "    <tr>\n",
       "      <th>15</th>\n",
       "      <td>15</td>\n",
       "      <td>15.0</td>\n",
       "      <td>287.37</td>\n",
       "      <td>-128.07</td>\n",
       "      <td>-0.89</td>\n",
       "    </tr>\n",
       "    <tr>\n",
       "      <th>16</th>\n",
       "      <td>16</td>\n",
       "      <td>16.0</td>\n",
       "      <td>272.91</td>\n",
       "      <td>-51.50</td>\n",
       "      <td>0.92</td>\n",
       "    </tr>\n",
       "    <tr>\n",
       "      <th>17</th>\n",
       "      <td>17</td>\n",
       "      <td>17.0</td>\n",
       "      <td>-41.05</td>\n",
       "      <td>211.40</td>\n",
       "      <td>1.77</td>\n",
       "    </tr>\n",
       "    <tr>\n",
       "      <th>18</th>\n",
       "      <td>18</td>\n",
       "      <td>18.0</td>\n",
       "      <td>-231.46</td>\n",
       "      <td>98.81</td>\n",
       "      <td>3.08</td>\n",
       "    </tr>\n",
       "    <tr>\n",
       "      <th>19</th>\n",
       "      <td>19</td>\n",
       "      <td>19.0</td>\n",
       "      <td>-148.70</td>\n",
       "      <td>-55.57</td>\n",
       "      <td>4.68</td>\n",
       "    </tr>\n",
       "    <tr>\n",
       "      <th>20</th>\n",
       "      <td>20</td>\n",
       "      <td>20.0</td>\n",
       "      <td>304.84</td>\n",
       "      <td>-128.92</td>\n",
       "      <td>-0.80</td>\n",
       "    </tr>\n",
       "    <tr>\n",
       "      <th>21</th>\n",
       "      <td>21</td>\n",
       "      <td>21.0</td>\n",
       "      <td>276.22</td>\n",
       "      <td>-64.53</td>\n",
       "      <td>1.09</td>\n",
       "    </tr>\n",
       "    <tr>\n",
       "      <th>22</th>\n",
       "      <td>22</td>\n",
       "      <td>22.0</td>\n",
       "      <td>-102.46</td>\n",
       "      <td>156.71</td>\n",
       "      <td>1.90</td>\n",
       "    </tr>\n",
       "    <tr>\n",
       "      <th>23</th>\n",
       "      <td>23</td>\n",
       "      <td>23.0</td>\n",
       "      <td>-306.36</td>\n",
       "      <td>8.80</td>\n",
       "      <td>3.23</td>\n",
       "    </tr>\n",
       "    <tr>\n",
       "      <th>24</th>\n",
       "      <td>24</td>\n",
       "      <td>24.0</td>\n",
       "      <td>-190.69</td>\n",
       "      <td>-170.43</td>\n",
       "      <td>4.68</td>\n",
       "    </tr>\n",
       "    <tr>\n",
       "      <th>25</th>\n",
       "      <td>25</td>\n",
       "      <td>25.0</td>\n",
       "      <td>204.68</td>\n",
       "      <td>-182.04</td>\n",
       "      <td>-0.58</td>\n",
       "    </tr>\n",
       "    <tr>\n",
       "      <th>26</th>\n",
       "      <td>26</td>\n",
       "      <td>26.0</td>\n",
       "      <td>172.44</td>\n",
       "      <td>-105.68</td>\n",
       "      <td>1.14</td>\n",
       "    </tr>\n",
       "    <tr>\n",
       "      <th>27</th>\n",
       "      <td>27</td>\n",
       "      <td>27.0</td>\n",
       "      <td>-195.19</td>\n",
       "      <td>82.39</td>\n",
       "      <td>2.06</td>\n",
       "    </tr>\n",
       "    <tr>\n",
       "      <th>28</th>\n",
       "      <td>28</td>\n",
       "      <td>28.0</td>\n",
       "      <td>-320.55</td>\n",
       "      <td>-89.57</td>\n",
       "      <td>3.58</td>\n",
       "    </tr>\n",
       "    <tr>\n",
       "      <th>29</th>\n",
       "      <td>29</td>\n",
       "      <td>29.0</td>\n",
       "      <td>-150.74</td>\n",
       "      <td>-220.44</td>\n",
       "      <td>5.11</td>\n",
       "    </tr>\n",
       "  </tbody>\n",
       "</table>\n",
       "</div>"
      ],
      "text/plain": [
       "    Unnamed: 0  Point       X       Y   Phi\n",
       "0            0    0.0  288.68 -101.49 -0.65\n",
       "1            1    1.0  293.72   45.92  0.95\n",
       "2            2    2.0   56.22  129.49  2.26\n",
       "3            3    3.0 -280.19  -98.60  3.15\n",
       "4            4    4.0 -193.44 -241.29  4.73\n",
       "5            5    5.0   26.04 -154.35 -0.15\n",
       "6            6    6.0  324.41  -20.14 -0.25\n",
       "7            7    7.0  258.53  155.88  1.42\n",
       "8            8    8.0    1.37  124.18  2.75\n",
       "9            9    9.0 -118.87 -292.89  3.82\n",
       "10          10   10.0   57.15 -376.12  5.29\n",
       "11          11   11.0  151.05 -211.91  0.51\n",
       "12          12   12.0   -3.10  238.66  1.29\n",
       "13          13   13.0 -143.72  189.46  2.89\n",
       "14          14   14.0 -105.04   -6.77  4.32\n",
       "15          15   15.0  287.37 -128.07 -0.89\n",
       "16          16   16.0  272.91  -51.50  0.92\n",
       "17          17   17.0  -41.05  211.40  1.77\n",
       "18          18   18.0 -231.46   98.81  3.08\n",
       "19          19   19.0 -148.70  -55.57  4.68\n",
       "20          20   20.0  304.84 -128.92 -0.80\n",
       "21          21   21.0  276.22  -64.53  1.09\n",
       "22          22   22.0 -102.46  156.71  1.90\n",
       "23          23   23.0 -306.36    8.80  3.23\n",
       "24          24   24.0 -190.69 -170.43  4.68\n",
       "25          25   25.0  204.68 -182.04 -0.58\n",
       "26          26   26.0  172.44 -105.68  1.14\n",
       "27          27   27.0 -195.19   82.39  2.06\n",
       "28          28   28.0 -320.55  -89.57  3.58\n",
       "29          29   29.0 -150.74 -220.44  5.11"
      ]
     },
     "execution_count": 25,
     "metadata": {},
     "output_type": "execute_result"
    }
   ],
   "source": [
    "odo"
   ]
  }
 ],
 "metadata": {
  "kernelspec": {
   "display_name": "Python 3",
   "language": "python",
   "name": "python3"
  },
  "language_info": {
   "codemirror_mode": {
    "name": "ipython",
    "version": 3
   },
   "file_extension": ".py",
   "mimetype": "text/x-python",
   "name": "python",
   "nbconvert_exporter": "python",
   "pygments_lexer": "ipython3",
   "version": "3.8.8"
  },
  "varInspector": {
   "cols": {
    "lenName": 16,
    "lenType": 16,
    "lenVar": 40
   },
   "kernels_config": {
    "python": {
     "delete_cmd_postfix": "",
     "delete_cmd_prefix": "del ",
     "library": "var_list.py",
     "varRefreshCmd": "print(var_dic_list())"
    },
    "r": {
     "delete_cmd_postfix": ") ",
     "delete_cmd_prefix": "rm(",
     "library": "var_list.r",
     "varRefreshCmd": "cat(var_dic_list()) "
    }
   },
   "types_to_exclude": [
    "module",
    "function",
    "builtin_function_or_method",
    "instance",
    "_Feature"
   ],
   "window_display": false
  }
 },
 "nbformat": 4,
 "nbformat_minor": 5
}
